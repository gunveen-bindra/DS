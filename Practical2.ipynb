{
 "cells": [
  {
   "cell_type": "code",
   "execution_count": 1,
   "metadata": {},
   "outputs": [],
   "source": [
    "class Node: \n",
    "\n",
    "    def __init__ (self, element, next = None ):\n",
    "        self.element = element\n",
    "        self.next = next\n",
    "        \n",
    "    def display(self):\n",
    "        print(self.element)\n",
    "\n",
    "class LinkedList:\n",
    "        \n",
    "    def __init__(self):\n",
    "        self.head = None\n",
    "        self.size = 0\n",
    "               \n",
    "    def _len_(self):\n",
    "        return self.size\n",
    "    \n",
    "    \n",
    "    def is_empty(self):\n",
    "        return self.size == 0 \n",
    "    \n",
    "    def display(self):\n",
    "        if self.size == 0:\n",
    "            print(\"No element\")\n",
    "            return \n",
    "        first = self.head\n",
    "        print(first.element)\n",
    "        first = first.next\n",
    "        while first:\n",
    "            \n",
    "            print(first.element)\n",
    "            first = first.next\n",
    "    \n",
    "    \n",
    "    def add_head(self,e):\n",
    "        temp = self.head \n",
    "        self.head = Node(e) \n",
    "        self.head.next = temp\n",
    "        self.size += 1 \n",
    "        \n",
    "    def get_tail(self):\n",
    "        last_object = self.head\n",
    "        while (last_object.next != None):\n",
    "            last_object = last_object.next\n",
    "        return last_object\n",
    "        \n",
    "    \n",
    "    def remove_head(self):\n",
    "        if self.is_empty():\n",
    "            print(\"Empty Singly linked list\")\n",
    "        else:\n",
    "            print(\"Removing\")\n",
    "            self.head = self.head.next\n",
    "            self.size -= 1\n",
    "            \n",
    "    def add_tail(self,e):\n",
    "        new_value = Node(e)\n",
    "        self.get_tail().next = new_value\n",
    "        self.size += 1\n",
    "        \n",
    "    def find_second_last_element(self):\n",
    "        #second_last_element = None\n",
    "               \n",
    "        if self.size >= 2:\n",
    "            first = self.head \n",
    "            temp_counter = self.size -2\n",
    "            while temp_counter > 0:\n",
    "                first = first.next \n",
    "                temp_counter -= 1 \n",
    "            return first\n",
    "        \n",
    "        else:\n",
    "            print(\"Size not sufficient\")\n",
    "            \n",
    "        return None       \n",
    "        \n",
    "    def remove_tail(self):\n",
    "        if self.is_empty():\n",
    "            print(\"Empty Singly linked list\")\n",
    "        elif self.size == 1:\n",
    "            self.head == None\n",
    "            self.size -= 1\n",
    "        else: \n",
    "            Node = self.find_second_last_element()\n",
    "            if Node:\n",
    "                Node.next = None\n",
    "                self.size -= 1\n",
    "                \n",
    "    def get_node_at(self,index):\n",
    "        element_node = self.head\n",
    "        counter = 0\n",
    "        if index > self.size-1:\n",
    "            print(\"Index out of bound\")\n",
    "            return None\n",
    "        while(counter < index):\n",
    "            element_node = element_node.next\n",
    "            counter += 1\n",
    "        return element_node\n",
    "  \n",
    "        \n",
    "                \n",
    "    def remove_between_list(self,position):\n",
    "        if position > self.size-1:\n",
    "            print(\"Index out of bound\")\n",
    "        elif position == self.size-1:\n",
    "            self.remove_tail()\n",
    "        elif position == 0:\n",
    "            self.remove_head()\n",
    "        else:\n",
    "            prev_node = self.get_node_at(position-1)\n",
    "            next_node = self.get_node_at(position+1)\n",
    "            prev_node.next = next_node\n",
    "            self.size -= 1\n",
    "            \n",
    "    def add_between_list(self,position,element):\n",
    "        if position > self.size:\n",
    "            print(\"Index out of bound\")\n",
    "        elif position == self.size:\n",
    "            self.add_tail(element)\n",
    "        elif position == 0:\n",
    "            self.add_head(element)\n",
    "        else:\n",
    "            prev_node = self.get_node_at(position-1)\n",
    "            current_node = self.get_node_at(position)\n",
    "            prev_node.next = element\n",
    "            element.next = current_node\n",
    "            self.size -= 1\n",
    "        \n",
    "    def search (self,search_value):\n",
    "        index = 0 \n",
    "        while (index < self.size):\n",
    "            value = self.get_node_at(index)\n",
    "            print(\"Searching at \" + str(index) + \" and value is \" + str(value.element))\n",
    "            if value.element == search_value:\n",
    "                print(\"Found value at \" + str(index) + \" location\")\n",
    "                return True\n",
    "            index += 1\n",
    "        print(\"Not Found\")\n",
    "        return False\n",
    "    \n",
    "    def merge(self,linkedlist_value):\n",
    "        if self.size > 0:\n",
    "            last_node = self.get_node_at(self.size-1)\n",
    "            last_node.next = linkedlist_value.head\n",
    "            self.size = self.size + linkedlist_value.size\n",
    "            \n",
    "        else:\n",
    "            self.head = linkedlist_value.head\n",
    "            self.size = linkedlist_value.size\n",
    "            \n",
    "    \n",
    "\n"
   ]
  },
  {
   "cell_type": "code",
   "execution_count": 2,
   "metadata": {},
   "outputs": [
    {
     "name": "stdout",
     "output_type": "stream",
     "text": [
      "Empty Singly linked list\n"
     ]
    }
   ],
   "source": [
    "l1 = LinkedList()\n",
    "l1.remove_head()"
   ]
  },
  {
   "cell_type": "code",
   "execution_count": 3,
   "metadata": {},
   "outputs": [
    {
     "name": "stdout",
     "output_type": "stream",
     "text": [
      "1\n",
      "2\n",
      "3\n",
      "4\n",
      "5\n",
      "Removing\n",
      "2\n",
      "3\n",
      "9\n"
     ]
    }
   ],
   "source": [
    "list1=LinkedList()\n",
    "list1.add_head(3)\n",
    "list1.add_head(2)\n",
    "list1.add_head(1)\n",
    "list1.add_tail(4)\n",
    "list1.add_tail(5)\n",
    "list1.display()\n",
    "list1.remove_head()\n",
    "list1.remove_tail()\n",
    "list1.add_between_list(3,9)\n",
    "list1.remove_between_list(2)\n",
    "list1.display()"
   ]
  },
  {
   "cell_type": "code",
   "execution_count": 4,
   "metadata": {},
   "outputs": [
    {
     "name": "stdout",
     "output_type": "stream",
     "text": [
      "merge\n",
      "2\n",
      "3\n",
      "9\n",
      "6\n",
      "7\n",
      "8\n"
     ]
    }
   ],
   "source": [
    "        \n",
    "list2=LinkedList()\n",
    "list2.add_head(8)\n",
    "list2.add_head(7)\n",
    "list2.add_head(6)           \n",
    "list1.merge(list2)\n",
    "print('merge')\n",
    "list1.display()\n"
   ]
  },
  {
   "cell_type": "code",
   "execution_count": 1,
   "metadata": {},
   "outputs": [],
   "source": [
    "class Node:\n",
    "    def __init__(self,element,prev,next):\n",
    "        self.element=element\n",
    "        self.prev = prev\n",
    "        self.next = next\n",
    "\n",
    "class DoublyLinkedList:\n",
    "    \n",
    "    def __init__(self):\n",
    "        self._head = Node(None,None,None)\n",
    "        self._tail = Node(None,None,None)\n",
    "        self._head.next=self._tail\n",
    "        self._tail.prev=self._head\n",
    "        self._size = 0\n",
    "        \n",
    "    def __len__(self):\n",
    "        return self._size\n",
    "    def is_empty(self):\n",
    "        return self._size == 0\n",
    "    def display(self):\n",
    "        newest = self._head\n",
    "        while newest:\n",
    "            print(newest.element,end='-->')\n",
    "            newest = newest.next\n",
    "        print()\n",
    "        \n",
    "    def add_head(self,e):\n",
    "        temp = self._head\n",
    "        if self.is_empty():\n",
    "            self._head=temp\n",
    "            self._tail=temp\n",
    "        else:\n",
    "            self._head = Node(e,None,None)\n",
    "            self._head.next = temp\n",
    "            self._size += 1\n",
    "        \n",
    "    def add_tail(self,e):\n",
    "        temp = Node(e,None,None)\n",
    "        if self.is_empty():\n",
    "            self._head=temp\n",
    "            self._tail=temp\n",
    "        else:\n",
    "            self._tail.next = temp\n",
    "            temp.prev=self._tail\n",
    "        self._tail=temp\n",
    "        self._size += 1\n",
    "    \n",
    "    def remove_head(self):\n",
    "        if self.is_empty():\n",
    "            print(\"List is empty\")\n",
    "        value = self._head.element\n",
    "        self._head = self._head.next\n",
    "        self._head.prev = None\n",
    "        self._size -= 1\n",
    "        if self.is_empty():\n",
    "            self._tail = None\n",
    "        return value\n",
    "    \n",
    "    \n",
    "    def remove_tail(self):\n",
    "        if self.is_empty():\n",
    "            print(\"List is empty\")\n",
    "        newest = self._head\n",
    "        i = 0\n",
    "        while i<len(self)-2:\n",
    "            newest=newest.next\n",
    "            i+=1\n",
    "        self._tail =newest \n",
    "        newest = newest.next\n",
    "        value = newest.element\n",
    "        self._tail.next = None\n",
    "        self._size -= 1\n",
    "        return value\n",
    "    \n",
    "    def search_item(self, x):\n",
    "        if self._head is None:\n",
    "            print(\"List has no elements\")\n",
    "            return\n",
    "        n = self._head\n",
    "        while n is not None:\n",
    "            if n.element == x:\n",
    "                print(\"Item found\")\n",
    "                return True\n",
    "            n = n.next\n",
    "        print(\"item not found\")\n",
    "        return False\n",
    "\n",
    "    def reverse_list(self):\n",
    "        first = self._head\n",
    "        second = first.next\n",
    "        first.next=None\n",
    "        first.prev=second\n",
    "        while second is not None:\n",
    "            second.prev = second.next\n",
    "            second.next = first\n",
    "            first = second\n",
    "            second = second.prev\n",
    "        self._head=first\n",
    "        \n",
    "    "
   ]
  },
  {
   "cell_type": "code",
   "execution_count": 2,
   "metadata": {},
   "outputs": [
    {
     "name": "stdout",
     "output_type": "stream",
     "text": [
      "10-->20-->30-->40-->\n"
     ]
    }
   ],
   "source": [
    "l = DoublyLinkedList()\n",
    "l.add_tail(10)\n",
    "l.add_tail(20)\n",
    "l.add_tail(30)\n",
    "l.add_tail(40)\n",
    "l.display()\n"
   ]
  },
  {
   "cell_type": "code",
   "execution_count": 3,
   "metadata": {},
   "outputs": [
    {
     "name": "stdout",
     "output_type": "stream",
     "text": [
      "Delete 10\n",
      "20-->30-->40-->\n"
     ]
    }
   ],
   "source": [
    "print('Delete',l.remove_head())\n",
    "l.display()"
   ]
  },
  {
   "cell_type": "code",
   "execution_count": 4,
   "metadata": {},
   "outputs": [
    {
     "name": "stdout",
     "output_type": "stream",
     "text": [
      "Delete 40\n",
      "20-->30-->\n"
     ]
    }
   ],
   "source": [
    "print('Delete',l.remove_tail())\n",
    "l.display()"
   ]
  },
  {
   "cell_type": "code",
   "execution_count": 5,
   "metadata": {},
   "outputs": [
    {
     "name": "stdout",
     "output_type": "stream",
     "text": [
      "Adding\n",
      "100-->90-->80-->70-->20-->30-->\n"
     ]
    }
   ],
   "source": [
    "print(\"Adding\")\n",
    "l.add_head(70)\n",
    "l.add_head(80)\n",
    "l.add_head(90)\n",
    "l.add_head(100)\n",
    "l.display()"
   ]
  },
  {
   "cell_type": "code",
   "execution_count": 6,
   "metadata": {},
   "outputs": [
    {
     "name": "stdout",
     "output_type": "stream",
     "text": [
      "Reversing the list\n",
      "30-->20-->70-->80-->90-->100-->\n"
     ]
    }
   ],
   "source": [
    "print(\"Reversing the list\")\n",
    "l.reverse_list()\n",
    "l.display()"
   ]
  },
  {
   "cell_type": "code",
   "execution_count": 7,
   "metadata": {},
   "outputs": [
    {
     "name": "stdout",
     "output_type": "stream",
     "text": [
      "Item found\n",
      "30-->20-->70-->80-->90-->100-->\n"
     ]
    }
   ],
   "source": [
    "l.search_item(70)\n",
    "l.display()"
   ]
  },
  {
   "cell_type": "code",
   "execution_count": null,
   "metadata": {},
   "outputs": [],
   "source": []
  }
 ],
 "metadata": {
  "kernelspec": {
   "display_name": "Python 3",
   "language": "python",
   "name": "python3"
  },
  "language_info": {
   "codemirror_mode": {
    "name": "ipython",
    "version": 3
   },
   "file_extension": ".py",
   "mimetype": "text/x-python",
   "name": "python",
   "nbconvert_exporter": "python",
   "pygments_lexer": "ipython3",
   "version": "3.6.5"
  }
 },
 "nbformat": 4,
 "nbformat_minor": 4
}
