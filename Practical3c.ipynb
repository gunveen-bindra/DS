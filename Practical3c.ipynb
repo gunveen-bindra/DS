{
 "cells": [
  {
   "cell_type": "code",
   "execution_count": 1,
   "metadata": {},
   "outputs": [],
   "source": [
    "#WAP to scan a polynomial using linked list and add two polynomial.  "
   ]
  },
  {
   "cell_type": "code",
   "execution_count": 3,
   "metadata": {},
   "outputs": [
    {
     "ename": "NameError",
     "evalue": "name 'LinkedList' is not defined",
     "output_type": "error",
     "traceback": [
      "\u001b[1;31m---------------------------------------------------------------------------\u001b[0m",
      "\u001b[1;31mNameError\u001b[0m                                 Traceback (most recent call last)",
      "\u001b[1;32m<ipython-input-3-8599ac183ebb>\u001b[0m in \u001b[0;36m<module>\u001b[1;34m\u001b[0m\n\u001b[0;32m      1\u001b[0m \u001b[0morder\u001b[0m \u001b[1;33m=\u001b[0m \u001b[1;36m3\u001b[0m\u001b[1;33m\u001b[0m\u001b[0m\n\u001b[0;32m      2\u001b[0m \u001b[1;33m\u001b[0m\u001b[0m\n\u001b[1;32m----> 3\u001b[1;33m \u001b[0ml1\u001b[0m \u001b[1;33m=\u001b[0m \u001b[0mLinkedList\u001b[0m\u001b[1;33m(\u001b[0m\u001b[1;33m)\u001b[0m\u001b[1;33m\u001b[0m\u001b[0m\n\u001b[0m\u001b[0;32m      4\u001b[0m \u001b[0mprint\u001b[0m\u001b[1;33m(\u001b[0m\u001b[1;34m\"Polynomial 1:\"\u001b[0m\u001b[1;33m)\u001b[0m\u001b[1;33m\u001b[0m\u001b[0m\n\u001b[0;32m      5\u001b[0m \u001b[1;33m\u001b[0m\u001b[0m\n",
      "\u001b[1;31mNameError\u001b[0m: name 'LinkedList' is not defined"
     ]
    }
   ],
   "source": [
    "order = 3\n",
    "\n",
    "l1 = LinkedList()\n",
    "print(\"Polynomial 1:\")\n",
    "\n",
    "l1.add_head(Node(int(input(f\"coefficient for power {order} : \"))))\n",
    "for i in reversed(range(order)):\n",
    "    l1.add_tail(int(input(f\"coefficient for power {i} : \")))\n",
    "    \n",
    "l2 = LinkedList()\n",
    "print(\"Polynomial 2\")\n",
    "\n",
    "l2.add_head(Node(int(input(f\"coefficient for power {order} : \"))))\n",
    "for i in reversed(range(order)):\n",
    "    l2.add_tail(int(input(f\"coefficient for power {i} : \")))\n",
    "\n",
    "print(\"Adding cooeficients of polynomial 1 and 2 \")\n",
    "print(l1.get_node_at(0).element + l2.get_node_at(0).element, \"x^3 + \" , \n",
    "         l1.get_node_at(1).element + l2.get_node_at(1).element, \"x^2 + \",\n",
    "         l1.get_node_at(2).element + l2.get_node_at(2).element, \"x + \",\n",
    "         l1.get_node_at(3).element + l2.get_node_at(3).element)"
   ]
  },
  {
   "cell_type": "code",
   "execution_count": null,
   "metadata": {},
   "outputs": [],
   "source": []
  }
 ],
 "metadata": {
  "kernelspec": {
   "display_name": "Python 3",
   "language": "python",
   "name": "python3"
  },
  "language_info": {
   "codemirror_mode": {
    "name": "ipython",
    "version": 3
   },
   "file_extension": ".py",
   "mimetype": "text/x-python",
   "name": "python",
   "nbconvert_exporter": "python",
   "pygments_lexer": "ipython3",
   "version": "3.6.5"
  }
 },
 "nbformat": 4,
 "nbformat_minor": 4
}
