{
 "cells": [
  {
   "cell_type": "code",
   "execution_count": 1,
   "metadata": {},
   "outputs": [],
   "source": [
    "#Python program to perform Queues operations using Circular Array implementation. "
   ]
  },
  {
   "cell_type": "code",
   "execution_count": 16,
   "metadata": {},
   "outputs": [],
   "source": [
    "\n",
    "#Performing Queue operations using Circular Array implementation\n",
    "class ArrayQueue:\n",
    "    \n",
    "    '''FIFO queue implementation using a Python list as underlying storage.'''\n",
    "    DEFAULT_CAPACITY = 6\n",
    "    \n",
    "    # moderate capacity for all new queues\n",
    "    def __init__ (self):\n",
    "        '''Create an empty queue.'''\n",
    "        self._data = [None] * ArrayQueue.DEFAULT_CAPACITY \n",
    "        self._size = 0\n",
    "        self._front = 0\n",
    "\n",
    "    def display(self):\n",
    "        return self._data\n",
    "\n",
    "    def __len__(self):        \n",
    "        return self._size\n",
    "    \n",
    "    def is_empty(self):\n",
    "        #Return True if the queue is empty\n",
    "        return self._size == 0\n",
    "    \n",
    "    def first(self):                                                                                                     \n",
    "        if self.is_empty():\n",
    "            raise Exception( \"Queue is empty\" ) \n",
    "            return self._data[self._front]\n",
    "\n",
    "    def dequeue(self):\n",
    "        if self.is_empty():\n",
    "            raise Exception( \"Queue is empty\" )\n",
    "        answer = self._data[self._front]\n",
    "        self._data[self._front] = None\n",
    "        self._front = (self._front + 1) % len(self._data) \n",
    "        self._size -= 1\n",
    "        return answer\n",
    "\n",
    "    def enqueue(self, e):\n",
    "        if self._size == len(self._data):\n",
    "            self._resize(2  * len(self._data)) # double the array size \n",
    "        avail = (self._front + self._size) % len(self._data)\n",
    "        self._data[avail] = e\n",
    "        self._size += 1\n",
    "                        \n",
    "    def _resize(self, cap): \n",
    "        old = self._data\n",
    "        self._data = [None] * cap \n",
    "        walk = self._front\n",
    "        for k in range(self._size):\n",
    "            self._data[k] = old[walk]\n",
    "            walk = (1 + walk) % len(old) \n",
    "        self._front = 0\n",
    "\n",
    "\n"
   ]
  },
  {
   "cell_type": "code",
   "execution_count": 17,
   "metadata": {},
   "outputs": [
    {
     "name": "stdout",
     "output_type": "stream",
     "text": [
      "[1, 2, 3, 4, 5, 6]\n"
     ]
    }
   ],
   "source": [
    "obj = ArrayQueue()\n",
    "obj.enqueue(1)\n",
    "obj.enqueue(2)\n",
    "obj.enqueue(3)\n",
    "obj.enqueue(4)\n",
    "obj.enqueue(5)\n",
    "obj.enqueue(6)\n",
    "print(obj.display())"
   ]
  },
  {
   "cell_type": "code",
   "execution_count": 18,
   "metadata": {},
   "outputs": [
    {
     "name": "stdout",
     "output_type": "stream",
     "text": [
      "[None, None, None, 4, 5, 6]\n"
     ]
    }
   ],
   "source": [
    "obj.dequeue()\n",
    "obj.dequeue()\n",
    "obj.dequeue()\n",
    "print(obj.display())"
   ]
  },
  {
   "cell_type": "code",
   "execution_count": 19,
   "metadata": {},
   "outputs": [
    {
     "name": "stdout",
     "output_type": "stream",
     "text": [
      "[1, None, None, 4, 5, 6]\n"
     ]
    }
   ],
   "source": [
    "obj.enqueue(1)\n",
    "print(obj.display())\n",
    "\n"
   ]
  },
  {
   "cell_type": "code",
   "execution_count": 20,
   "metadata": {},
   "outputs": [
    {
     "name": "stdout",
     "output_type": "stream",
     "text": [
      "[1, 2, None, 4, 5, 6]\n"
     ]
    }
   ],
   "source": [
    "obj.enqueue(2)\n",
    "print(obj.display())"
   ]
  },
  {
   "cell_type": "code",
   "execution_count": 21,
   "metadata": {},
   "outputs": [
    {
     "name": "stdout",
     "output_type": "stream",
     "text": [
      "[1, 2, 3, 4, 5, 6]\n"
     ]
    }
   ],
   "source": [
    "obj.enqueue(3)\n",
    "print(obj.display())"
   ]
  },
  {
   "cell_type": "code",
   "execution_count": null,
   "metadata": {},
   "outputs": [],
   "source": []
  }
 ],
 "metadata": {
  "kernelspec": {
   "display_name": "Python 3",
   "language": "python",
   "name": "python3"
  },
  "language_info": {
   "codemirror_mode": {
    "name": "ipython",
    "version": 3
   },
   "file_extension": ".py",
   "mimetype": "text/x-python",
   "name": "python",
   "nbconvert_exporter": "python",
   "pygments_lexer": "ipython3",
   "version": "3.6.5"
  }
 },
 "nbformat": 4,
 "nbformat_minor": 4
}
