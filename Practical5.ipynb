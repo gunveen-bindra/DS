{
 "cells": [
  {
   "cell_type": "code",
   "execution_count": 85,
   "metadata": {},
   "outputs": [
    {
     "name": "stdout",
     "output_type": "stream",
     "text": [
      "['car', 'pen', 'crayons', 'pencil', 'perfume']\n"
     ]
    }
   ],
   "source": [
    "lst=['car','pen','crayons','pencil','perfume']\n",
    "print(lst)"
   ]
  },
  {
   "cell_type": "code",
   "execution_count": 86,
   "metadata": {},
   "outputs": [],
   "source": [
    "def linear_search(lst,n):\n",
    "    index_counter = 0\n",
    "    list_size = len(lst)\n",
    "    while index_counter < list_size:\n",
    "        temp_value = lst[index_counter]\n",
    "        if temp_value == n:\n",
    "            return index_counter\n",
    "        index_counter +=1\n",
    "    return -1\n",
    "    #rint(\"Linear search:\",linear_search())\n"
   ]
  },
  {
   "cell_type": "code",
   "execution_count": 87,
   "metadata": {},
   "outputs": [],
   "source": [
    "def LinearSearch(lst,n):\n",
    "    for i in lst:\n",
    "        if i == n:\n",
    "            return lst.index(i)\n",
    "    return -1\n"
   ]
  },
  {
   "cell_type": "code",
   "execution_count": 88,
   "metadata": {},
   "outputs": [],
   "source": [
    "#Python Program to sort a list using binary search\n",
    "def binary_search(lst, n):\n",
    "    first = 0\n",
    "    last = len(lst)-1\n",
    "    index = -1\n",
    "    while (first <= last) and (index == -1):\n",
    "        mid = (first+last)//2\n",
    "        if lst[mid] == n:\n",
    "            index = mid\n",
    "        else:\n",
    "            if n<lst[mid]:\n",
    "                last = mid -1\n",
    "            else:\n",
    "                first = mid +1\n",
    "    return index\n",
    "   #print(\"binary search:\",binary_search())\n",
    "    "
   ]
  },
  {
   "cell_type": "code",
   "execution_count": 89,
   "metadata": {},
   "outputs": [
    {
     "name": "stdout",
     "output_type": "stream",
     "text": [
      "Enter 1 to perform linear_search,\n",
      "Enter 2 to perform binary_search2\n",
      "3\n"
     ]
    }
   ],
   "source": [
    "a = input(\"Enter 1 to perform linear_search,\\nEnter 2 to perform binary_search\")\n",
    "if a == '1':\n",
    "    print(linear_search(lst,'crayons'))\n",
    "elif a == '2':\n",
    "    print(binary_search(lst,'pencil'))\n",
    "    "
   ]
  },
  {
   "cell_type": "code",
   "execution_count": null,
   "metadata": {},
   "outputs": [],
   "source": []
  },
  {
   "cell_type": "code",
   "execution_count": null,
   "metadata": {},
   "outputs": [],
   "source": []
  }
 ],
 "metadata": {
  "kernelspec": {
   "display_name": "Python 3",
   "language": "python",
   "name": "python3"
  },
  "language_info": {
   "codemirror_mode": {
    "name": "ipython",
    "version": 3
   },
   "file_extension": ".py",
   "mimetype": "text/x-python",
   "name": "python",
   "nbconvert_exporter": "python",
   "pygments_lexer": "ipython3",
   "version": "3.6.5"
  }
 },
 "nbformat": 4,
 "nbformat_minor": 4
}
