{
 "cells": [
  {
   "cell_type": "code",
   "execution_count": 9,
   "metadata": {},
   "outputs": [
    {
     "name": "stdout",
     "output_type": "stream",
     "text": [
      "[20, 5, 54, 33, 64, -9, 58]\n",
      "[20, 5, 54, 33, 64, -9, 58]\n"
     ]
    }
   ],
   "source": [
    "list_students_rolls=[20,5,54,33,64,-9,58]\n",
    "print(list_students_rolls)"
   ]
  },
  {
   "cell_type": "code",
   "execution_count": 10,
   "metadata": {},
   "outputs": [],
   "source": [
    "#Python Program to sort a list using bubble sort\n",
    "def bubble_sort(list_students_rolls):\n",
    "    for i in range(0,len(list_students_rolls)):\n",
    "        for j in range(0,len(list_students_rolls)-1):\n",
    "            if list_students_rolls[j]>list_students_rolls[j+1]:\n",
    "                list_students_rolls[j],list_students_rolls[j+1] = list_students_rolls[j+1],list_students_rolls[j]\n",
    "    print(\"Bubble Sort:\",list_students_rolls)"
   ]
  },
  {
   "cell_type": "code",
   "execution_count": 11,
   "metadata": {},
   "outputs": [],
   "source": [
    "#Python Program to sort a list using selection sort\n",
    "def selection_sort(list_students_rolls):\n",
    "    for i in range(len(list_students_rolls)):\n",
    "        min_val_index = i\n",
    "        for j in range(i+1,len(list_students_rolls)):\n",
    "            if list_students_rolls[min_val_index]>list_students_rolls[j]:\n",
    "                min_val_index = j\n",
    "        list_students_rolls[i],list_students_rolls[min_val_index] = list_students_rolls[min_val_index],list_students_rolls[i]\n",
    "    print(\"Selection Sort:\",list_students_rolls)\n"
   ]
  },
  {
   "cell_type": "code",
   "execution_count": 12,
   "metadata": {},
   "outputs": [],
   "source": [
    "#Python Program to sort a list using insertion sort\n",
    "def insertion_sort(list_students_rolls):\n",
    "    for i in range(len(list_students_rolls)):\n",
    "        value = list_students_rolls[i]\n",
    "        j = i-1\n",
    "\n",
    "        while j>=0 and value < list_students_rolls[j]:\n",
    "            list_students_rolls[j+1] = list_students_rolls[j]\n",
    "            j-=1\n",
    "\n",
    "        list_students_rolls[j+1] = value\n",
    "    print(\"Insertion Sort:\",list_students_rolls)"
   ]
  },
  {
   "cell_type": "code",
   "execution_count": 13,
   "metadata": {},
   "outputs": [
    {
     "name": "stdout",
     "output_type": "stream",
     "text": [
      "Enter 1 to perform bubble sort,\n",
      "Enter 2 to perform insertion sort,\n",
      "Enter 3 or press enter to perform selection sort: 2\n",
      "Insertion Sort: [-9, 5, 20, 33, 54, 58, 64]\n",
      "Insertion Sort: [-9, 5, 20, 33, 54, 58, 64]\n"
     ]
    }
   ],
   "source": [
    "a = input(\"Enter 1 to perform bubble sort,\\nEnter 2 to perform insertion sort,\\nEnter 3 or press enter to perform selection sort: \")\n",
    "if a == '1':\n",
    "    bubble_sort(list_students_rolls)\n",
    "elif a == '2':\n",
    "    insertion_sort(list_students_rolls)\n",
    "else:\n",
    "    selection_sort(list_students_rolls)\n"
   ]
  },
  {
   "cell_type": "code",
   "execution_count": null,
   "metadata": {},
   "outputs": [],
   "source": []
  },
  {
   "cell_type": "code",
   "execution_count": null,
   "metadata": {},
   "outputs": [],
   "source": []
  },
  {
   "cell_type": "code",
   "execution_count": null,
   "metadata": {},
   "outputs": [],
   "source": []
  }
 ],
 "metadata": {
  "kernelspec": {
   "display_name": "Python 3",
   "language": "python",
   "name": "python3"
  },
  "language_info": {
   "codemirror_mode": {
    "name": "ipython",
    "version": 3
   },
   "file_extension": ".py",
   "mimetype": "text/x-python",
   "name": "python",
   "nbconvert_exporter": "python",
   "pygments_lexer": "ipython3",
   "version": "3.6.5"
  }
 },
 "nbformat": 4,
 "nbformat_minor": 4
}
