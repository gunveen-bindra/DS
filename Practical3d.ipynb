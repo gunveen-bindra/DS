{
 "cells": [
  {
   "cell_type": "code",
   "execution_count": null,
   "metadata": {},
   "outputs": [],
   "source": [
    "#WAP to calculate factorial and to compute the factors of a given no.\n",
    "#using recursion\n",
    "#using iteration."
   ]
  },
  {
   "cell_type": "code",
   "execution_count": 9,
   "metadata": {},
   "outputs": [
    {
     "name": "stdout",
     "output_type": "stream",
     "text": [
      "Enter a number: 6\n",
      "The factorial of 6 is 720\n"
     ]
    }
   ],
   "source": [
    "#to find factorial of a given number using recursion\n",
    "def recur_factorial(n):\n",
    "    if n == 1:\n",
    "        return n\n",
    "    else:\n",
    "        return n*recur_factorial(n-1)\n",
    "\n",
    "num = int(input(\"Enter a number: \"))\n",
    "\n",
    "# check if the number is negative\n",
    "if num < 0:\n",
    "    print(\"Sorry, factorial does not exist for negative numbers\")\n",
    "elif num == 0:\n",
    "    print(\"The factorial of 0 is 1\")\n",
    "else:\n",
    "    print(\"The factorial of\", num, \"is\", recur_factorial(num))"
   ]
  },
  {
   "cell_type": "code",
   "execution_count": 12,
   "metadata": {},
   "outputs": [
    {
     "name": "stdout",
     "output_type": "stream",
     "text": [
      "Enter a number: 5\n",
      "Factorial of  5   is  120\n"
     ]
    }
   ],
   "source": [
    "#to find factorial of a given number using iteration\n",
    "num = int(input(\"Enter a number: \"))\n",
    "factorial = 1\n",
    "if  num < 0 :\n",
    "    print(\"Factorial does not exist\")\n",
    "elif num == 0 or num==1:\n",
    "    print(\"Factorial is of \",num,\"is 1\")\n",
    "else:\n",
    "    for i in range(1,num+1):\n",
    "        factorial = factorial* i\n",
    "    print(\"Factorial of \",num,\"  is \",factorial)\n"
   ]
  },
  {
   "cell_type": "code",
   "execution_count": 7,
   "metadata": {},
   "outputs": [
    {
     "name": "stdout",
     "output_type": "stream",
     "text": [
      "1\n",
      "2\n",
      "5\n",
      "10\n"
     ]
    }
   ],
   "source": [
    "#to find factors of a given number using recursion\n",
    "def factors_recursion(x,i):\n",
    "    if i==x+1:\n",
    "        return\n",
    "    if x%i == 0:\n",
    "        print(i)\n",
    "    return factors_recursion(x,i+1) #simpler version of the problem\n",
    "\n",
    "factors_recursion(10,1)\n"
   ]
  },
  {
   "cell_type": "code",
   "execution_count": 3,
   "metadata": {},
   "outputs": [
    {
     "name": "stdout",
     "output_type": "stream",
     "text": [
      "Enter a number: 6\n",
      "The factors of 6 are:\n",
      "1\n",
      "2\n",
      "3\n",
      "6\n",
      "None\n"
     ]
    }
   ],
   "source": [
    "#to find factors of a given number using iteration\n",
    "def iter_factors(x):\n",
    "    print (\"The factors of\",x,\"are:\")\n",
    "    for i in range(1, x + 1):\n",
    "        if x % i == 0: #if the number divided by i is zero, then i is a factor of that number\n",
    "            print (i)\n",
    "\n",
    "number = int(input(\"Enter a number: \"))\n",
    "\n",
    "print (iter_factors(number))"
   ]
  },
  {
   "cell_type": "code",
   "execution_count": null,
   "metadata": {},
   "outputs": [],
   "source": []
  }
 ],
 "metadata": {
  "kernelspec": {
   "display_name": "Python 3",
   "language": "python",
   "name": "python3"
  },
  "language_info": {
   "codemirror_mode": {
    "name": "ipython",
    "version": 3
   },
   "file_extension": ".py",
   "mimetype": "text/x-python",
   "name": "python",
   "nbconvert_exporter": "python",
   "pygments_lexer": "ipython3",
   "version": "3.6.5"
  }
 },
 "nbformat": 4,
 "nbformat_minor": 4
}
