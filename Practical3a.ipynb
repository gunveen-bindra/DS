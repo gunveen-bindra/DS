{
 "cells": [
  {
   "cell_type": "code",
   "execution_count": 23,
   "metadata": {},
   "outputs": [],
   "source": [
    "#Python program to perform stack operations using array implementation. \n",
    "class ArrayStack:\n",
    "    def __init__(self):\n",
    "        self._data = []\n",
    "        \n",
    "    def __len__(self):\n",
    "        return len(self._data)\n",
    "\n",
    "    def is_empty(self):\n",
    "        return len(self._data)==0\n",
    "    \n",
    "    def push(self,e):\n",
    "        self._data.append(e)\n",
    "\n",
    "    def pop(self):\n",
    "        if self.is_empty():\n",
    "            raise exception('Stack is empty')\n",
    "        else:\n",
    "            return self._data.pop()\n",
    "    \n",
    "    def top(self):\n",
    "        if self.is_empty():\n",
    "            raise exception('Stack is empty')\n",
    "        else:\n",
    "            return self._data[-1]"
   ]
  },
  {
   "cell_type": "code",
   "execution_count": 24,
   "metadata": {},
   "outputs": [
    {
     "name": "stdout",
     "output_type": "stream",
     "text": [
      "Stack [10, 20]\n"
     ]
    }
   ],
   "source": [
    "s=ArrayStack()\n",
    "s.push(10)\n",
    "s.push(20)\n",
    "print('Stack',s._data)"
   ]
  },
  {
   "cell_type": "code",
   "execution_count": 25,
   "metadata": {},
   "outputs": [
    {
     "name": "stdout",
     "output_type": "stream",
     "text": [
      "Length 2\n"
     ]
    }
   ],
   "source": [
    "print('Length',len(s))"
   ]
  },
  {
   "cell_type": "code",
   "execution_count": 26,
   "metadata": {},
   "outputs": [
    {
     "name": "stdout",
     "output_type": "stream",
     "text": [
      "Is_empty False\n"
     ]
    }
   ],
   "source": [
    "print('Is_empty',s.is_empty())"
   ]
  },
  {
   "cell_type": "code",
   "execution_count": 27,
   "metadata": {},
   "outputs": [
    {
     "name": "stdout",
     "output_type": "stream",
     "text": [
      "Popped 20\n",
      "Stack [10]\n"
     ]
    }
   ],
   "source": [
    "print('Popped',s.pop())\n",
    "print('Stack',s._data)"
   ]
  },
  {
   "cell_type": "code",
   "execution_count": 28,
   "metadata": {},
   "outputs": [
    {
     "name": "stdout",
     "output_type": "stream",
     "text": [
      "Popped 10\n"
     ]
    }
   ],
   "source": [
    "print('Popped',s.pop())"
   ]
  },
  {
   "cell_type": "code",
   "execution_count": 29,
   "metadata": {},
   "outputs": [
    {
     "name": "stdout",
     "output_type": "stream",
     "text": [
      "Is_empty True\n"
     ]
    }
   ],
   "source": [
    "print('Is_empty',s.is_empty())"
   ]
  },
  {
   "cell_type": "code",
   "execution_count": 30,
   "metadata": {},
   "outputs": [],
   "source": [
    "s.push(30)\n",
    "s.push(40)"
   ]
  },
  {
   "cell_type": "code",
   "execution_count": 31,
   "metadata": {},
   "outputs": [
    {
     "name": "stdout",
     "output_type": "stream",
     "text": [
      "Stack [30, 40]\n"
     ]
    }
   ],
   "source": [
    "print('Stack',s._data)\n"
   ]
  },
  {
   "cell_type": "code",
   "execution_count": 32,
   "metadata": {},
   "outputs": [
    {
     "name": "stdout",
     "output_type": "stream",
     "text": [
      "Top element 40\n"
     ]
    }
   ],
   "source": [
    "print('Top element',s.top())\n"
   ]
  },
  {
   "cell_type": "code",
   "execution_count": null,
   "metadata": {},
   "outputs": [],
   "source": []
  }
 ],
 "metadata": {
  "kernelspec": {
   "display_name": "Python 3",
   "language": "python",
   "name": "python3"
  },
  "language_info": {
   "codemirror_mode": {
    "name": "ipython",
    "version": 3
   },
   "file_extension": ".py",
   "mimetype": "text/x-python",
   "name": "python",
   "nbconvert_exporter": "python",
   "pygments_lexer": "ipython3",
   "version": "3.6.5"
  }
 },
 "nbformat": 4,
 "nbformat_minor": 4
}
